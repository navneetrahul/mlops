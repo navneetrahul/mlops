{
 "cells": [
  {
   "cell_type": "markdown",
   "id": "c8dea017",
   "metadata": {},
   "source": [
    "# End to End Model Development and Deployment "
   ]
  },
  {
   "cell_type": "markdown",
   "id": "7693bc97",
   "metadata": {},
   "source": [
    "Diabetes is a chronic disease that affects millions worldwide.\n",
    "Particularly we are interested to analyse diabetes in female patients.\n",
    "\n",
    "**Problem Statement**\n",
    "Develop a machine leanring model to predict diabetes in women and deploy it as a Web App in streamlit\n",
    "\n",
    "**Dataset Description**\n",
    "This is The Pima Indians Dataset from kaggle.com and has about 768 women of Pima heritage 21 years and above.This is an open source dataset.\n",
    "\n",
    "**Steps of the Modelling Process**\n",
    "1. Import all libraries and view the dataset\n",
    "2. Do the Data Sanity Check\n",
    "3. Clean the data\n",
    "4. Perform Exploratory Data Analysis\n",
    "5. Preprocess the data for modelling\n",
    "6. Fit and evaluate Machine Leaning Models\n",
    "7. Optimize the best model\n",
    "8. Interpret the tuned model\n",
    "9. Prepare for deployment by creating a pipeline.\n",
    "10. Deploy in streamlit"
   ]
  },
  {
   "cell_type": "markdown",
   "id": "9074c6ee",
   "metadata": {},
   "source": [
    "## Step 1: Import libraries and the dataset"
   ]
  },
  {
   "cell_type": "code",
   "execution_count": 5,
   "id": "c22d0e8e",
   "metadata": {},
   "outputs": [
    {
     "name": "stdout",
     "output_type": "stream",
     "text": [
      "All libraries are imported\n"
     ]
    }
   ],
   "source": [
    "# data manipulation and EDA libraries\n",
    "import pandas as pd\n",
    "import numpy as np\n",
    "import matplotlib.pyplot as plt\n",
    "import seaborn as sns\n",
    "import warnings\n",
    "warnings.filterwarnings(\"ignore\")\n",
    "\n",
    "# data preprocessing libraries\n",
    "from sklearn.preprocessing import StandardScaler\n",
    "from sklearn.model_selection import train_test_split, GridSearchCV\n",
    "from imblearn.over_sampling import SMOTE\n",
    "\n",
    "# data modelling libraries\n",
    "from sklearn.linear_model import LogisticRegression\n",
    "from sklearn.neighbors import KNeighborsClassifier\n",
    "from sklearn.naive_bayes import GaussianNB\n",
    "from sklearn.tree import DecisionTreeClassifier\n",
    "from sklearn.ensemble import RandomForestClassifier, AdaBoostClassifier, GradientBoostingClassifier\n",
    "from sklearn.svm import SVC\n",
    "from xgboost import XGBClassifier\n",
    "\n",
    "# data metrics libraries\n",
    "from sklearn.metrics import accuracy_score, recall_score, precision_score, f1_score, roc_auc_score\n",
    "from sklearn.metrics import confusion_matrix, classification_report\n",
    "\n",
    "# model interpretation and deployment libraries\n",
    "import shap\n",
    "import pickle\n",
    "from sklearn.pipeline import Pipeline\n",
    "import streamlit as st\n",
    "\n",
    "print(\"All libraries are imported\")\n",
    "\n"
   ]
  },
  {
   "cell_type": "code",
   "execution_count": 4,
   "id": "2bf9d29d",
   "metadata": {
    "scrolled": true
   },
   "outputs": [
    {
     "name": "stdout",
     "output_type": "stream",
     "text": [
      "Collecting streamlit\n",
      "  Using cached streamlit-1.27.1-py2.py3-none-any.whl (7.5 MB)\n",
      "Collecting gitpython!=3.1.19,<4,>=3.0.7\n",
      "  Using cached GitPython-3.1.37-py3-none-any.whl (190 kB)\n",
      "Requirement already satisfied: typing-extensions<5,>=4.1.0 in c:\\users\\greatlearning\\anaconda3\\lib\\site-packages (from streamlit) (4.4.0)\n",
      "Collecting protobuf<5,>=3.20\n",
      "  Downloading protobuf-4.24.3-cp310-abi3-win_amd64.whl (430 kB)\n",
      "     -------------------------------------- 430.5/430.5 kB 5.4 MB/s eta 0:00:00\n",
      "Requirement already satisfied: click<9,>=7.0 in c:\\users\\greatlearning\\anaconda3\\lib\\site-packages (from streamlit) (8.0.4)\n",
      "Collecting cachetools<6,>=4.0\n",
      "  Using cached cachetools-5.3.1-py3-none-any.whl (9.3 kB)\n",
      "Requirement already satisfied: tornado<7,>=6.0.3 in c:\\users\\greatlearning\\anaconda3\\lib\\site-packages (from streamlit) (6.1)\n",
      "Requirement already satisfied: numpy<2,>=1.19.3 in c:\\users\\greatlearning\\anaconda3\\lib\\site-packages (from streamlit) (1.23.5)\n",
      "Requirement already satisfied: python-dateutil<3,>=2.7.3 in c:\\users\\greatlearning\\anaconda3\\lib\\site-packages (from streamlit) (2.8.2)\n",
      "Requirement already satisfied: toml<2,>=0.10.1 in c:\\users\\greatlearning\\anaconda3\\lib\\site-packages (from streamlit) (0.10.2)\n",
      "Collecting blinker<2,>=1.0.0\n",
      "  Using cached blinker-1.6.2-py3-none-any.whl (13 kB)\n",
      "Collecting validators<1,>=0.2\n",
      "  Using cached validators-0.22.0-py3-none-any.whl (26 kB)\n",
      "Collecting pyarrow>=6.0\n",
      "  Downloading pyarrow-13.0.0-cp310-cp310-win_amd64.whl (24.3 MB)\n",
      "     --------------------------------------- 24.3/24.3 MB 21.8 MB/s eta 0:00:00\n",
      "Requirement already satisfied: pandas<3,>=1.3.0 in c:\\users\\greatlearning\\anaconda3\\lib\\site-packages (from streamlit) (1.5.3)\n",
      "Collecting tzlocal<6,>=1.1\n",
      "  Using cached tzlocal-5.0.1-py3-none-any.whl (20 kB)\n",
      "Requirement already satisfied: requests<3,>=2.27 in c:\\users\\greatlearning\\anaconda3\\lib\\site-packages (from streamlit) (2.28.1)\n",
      "Requirement already satisfied: packaging<24,>=16.8 in c:\\users\\greatlearning\\anaconda3\\lib\\site-packages (from streamlit) (22.0)\n",
      "Collecting altair<6,>=4.0\n",
      "  Using cached altair-5.1.1-py3-none-any.whl (520 kB)\n",
      "Collecting pydeck<1,>=0.8.0b4\n",
      "  Using cached pydeck-0.8.1b0-py2.py3-none-any.whl (4.8 MB)\n",
      "Requirement already satisfied: pillow<11,>=7.1.0 in c:\\users\\greatlearning\\anaconda3\\lib\\site-packages (from streamlit) (9.4.0)\n",
      "Requirement already satisfied: importlib-metadata<7,>=1.4 in c:\\users\\greatlearning\\anaconda3\\lib\\site-packages (from streamlit) (6.8.0)\n",
      "Collecting tenacity<9,>=8.1.0\n",
      "  Using cached tenacity-8.2.3-py3-none-any.whl (24 kB)\n",
      "Requirement already satisfied: watchdog>=2.1.5 in c:\\users\\greatlearning\\anaconda3\\lib\\site-packages (from streamlit) (2.1.6)\n",
      "Collecting rich<14,>=10.14.0\n",
      "  Using cached rich-13.6.0-py3-none-any.whl (239 kB)\n",
      "Requirement already satisfied: jinja2 in c:\\users\\greatlearning\\anaconda3\\lib\\site-packages (from altair<6,>=4.0->streamlit) (3.1.2)\n",
      "Requirement already satisfied: toolz in c:\\users\\greatlearning\\anaconda3\\lib\\site-packages (from altair<6,>=4.0->streamlit) (0.12.0)\n",
      "Requirement already satisfied: jsonschema>=3.0 in c:\\users\\greatlearning\\anaconda3\\lib\\site-packages (from altair<6,>=4.0->streamlit) (4.17.3)\n",
      "Requirement already satisfied: colorama in c:\\users\\greatlearning\\anaconda3\\lib\\site-packages (from click<9,>=7.0->streamlit) (0.4.6)\n",
      "Collecting gitdb<5,>=4.0.1\n",
      "  Using cached gitdb-4.0.10-py3-none-any.whl (62 kB)\n",
      "Requirement already satisfied: zipp>=0.5 in c:\\users\\greatlearning\\anaconda3\\lib\\site-packages (from importlib-metadata<7,>=1.4->streamlit) (3.11.0)\n",
      "Requirement already satisfied: pytz>=2020.1 in c:\\users\\greatlearning\\anaconda3\\lib\\site-packages (from pandas<3,>=1.3.0->streamlit) (2022.7)\n",
      "Requirement already satisfied: six>=1.5 in c:\\users\\greatlearning\\anaconda3\\lib\\site-packages (from python-dateutil<3,>=2.7.3->streamlit) (1.16.0)\n",
      "Requirement already satisfied: certifi>=2017.4.17 in c:\\users\\greatlearning\\anaconda3\\lib\\site-packages (from requests<3,>=2.27->streamlit) (2023.7.22)\n",
      "Requirement already satisfied: idna<4,>=2.5 in c:\\users\\greatlearning\\anaconda3\\lib\\site-packages (from requests<3,>=2.27->streamlit) (3.4)\n",
      "Requirement already satisfied: urllib3<1.27,>=1.21.1 in c:\\users\\greatlearning\\anaconda3\\lib\\site-packages (from requests<3,>=2.27->streamlit) (1.26.14)\n",
      "Requirement already satisfied: charset-normalizer<3,>=2 in c:\\users\\greatlearning\\anaconda3\\lib\\site-packages (from requests<3,>=2.27->streamlit) (2.0.4)\n",
      "Collecting pygments<3.0.0,>=2.13.0\n",
      "  Using cached Pygments-2.16.1-py3-none-any.whl (1.2 MB)\n",
      "Collecting markdown-it-py>=2.2.0\n",
      "  Using cached markdown_it_py-3.0.0-py3-none-any.whl (87 kB)\n",
      "Collecting tzdata\n",
      "  Using cached tzdata-2023.3-py2.py3-none-any.whl (341 kB)\n",
      "Collecting smmap<6,>=3.0.1\n",
      "  Using cached smmap-5.0.1-py3-none-any.whl (24 kB)\n",
      "Requirement already satisfied: MarkupSafe>=2.0 in c:\\users\\greatlearning\\anaconda3\\lib\\site-packages (from jinja2->altair<6,>=4.0->streamlit) (2.1.1)\n",
      "Requirement already satisfied: attrs>=17.4.0 in c:\\users\\greatlearning\\anaconda3\\lib\\site-packages (from jsonschema>=3.0->altair<6,>=4.0->streamlit) (22.1.0)\n",
      "Requirement already satisfied: pyrsistent!=0.17.0,!=0.17.1,!=0.17.2,>=0.14.0 in c:\\users\\greatlearning\\anaconda3\\lib\\site-packages (from jsonschema>=3.0->altair<6,>=4.0->streamlit) (0.18.0)\n",
      "Collecting mdurl~=0.1\n",
      "  Using cached mdurl-0.1.2-py3-none-any.whl (10.0 kB)\n",
      "Installing collected packages: validators, tzdata, tenacity, smmap, pygments, pyarrow, protobuf, mdurl, cachetools, blinker, tzlocal, pydeck, markdown-it-py, gitdb, rich, gitpython, altair, streamlit\n",
      "  Attempting uninstall: tenacity\n",
      "    Found existing installation: tenacity 8.0.1\n",
      "    Uninstalling tenacity-8.0.1:\n",
      "      Successfully uninstalled tenacity-8.0.1\n",
      "  Attempting uninstall: pygments\n",
      "    Found existing installation: Pygments 2.11.2\n",
      "    Uninstalling Pygments-2.11.2:\n",
      "      Successfully uninstalled Pygments-2.11.2\n",
      "Successfully installed altair-5.1.1 blinker-1.6.2 cachetools-5.3.1 gitdb-4.0.10 gitpython-3.1.37 markdown-it-py-3.0.0 mdurl-0.1.2 protobuf-4.24.3 pyarrow-13.0.0 pydeck-0.8.1b0 pygments-2.16.1 rich-13.6.0 smmap-5.0.1 streamlit-1.27.1 tenacity-8.2.3 tzdata-2023.3 tzlocal-5.0.1 validators-0.22.0\n"
     ]
    }
   ],
   "source": [
    "!pip install streamlit"
   ]
  },
  {
   "cell_type": "code",
   "execution_count": 2,
   "id": "311f05eb",
   "metadata": {},
   "outputs": [
    {
     "name": "stdout",
     "output_type": "stream",
     "text": [
      "Collecting shap\n",
      "  Downloading shap-0.42.1-cp310-cp310-win_amd64.whl (462 kB)\n",
      "     -------------------------------------- 462.3/462.3 kB 4.8 MB/s eta 0:00:00\n",
      "Requirement already satisfied: numpy in c:\\users\\greatlearning\\anaconda3\\lib\\site-packages (from shap) (1.23.5)\n",
      "Requirement already satisfied: scipy in c:\\users\\greatlearning\\anaconda3\\lib\\site-packages (from shap) (1.10.1)\n",
      "Requirement already satisfied: scikit-learn in c:\\users\\greatlearning\\anaconda3\\lib\\site-packages (from shap) (1.2.1)\n",
      "Requirement already satisfied: pandas in c:\\users\\greatlearning\\anaconda3\\lib\\site-packages (from shap) (1.5.3)\n",
      "Requirement already satisfied: packaging>20.9 in c:\\users\\greatlearning\\anaconda3\\lib\\site-packages (from shap) (22.0)\n",
      "Collecting slicer==0.0.7\n",
      "  Using cached slicer-0.0.7-py3-none-any.whl (14 kB)\n",
      "Requirement already satisfied: tqdm>=4.27.0 in c:\\users\\greatlearning\\anaconda3\\lib\\site-packages (from shap) (4.64.1)\n",
      "Requirement already satisfied: cloudpickle in c:\\users\\greatlearning\\anaconda3\\lib\\site-packages (from shap) (2.0.0)\n",
      "Requirement already satisfied: numba in c:\\users\\greatlearning\\anaconda3\\lib\\site-packages (from shap) (0.56.4)\n",
      "Requirement already satisfied: colorama in c:\\users\\greatlearning\\anaconda3\\lib\\site-packages (from tqdm>=4.27.0->shap) (0.4.6)\n",
      "Requirement already satisfied: setuptools in c:\\users\\greatlearning\\anaconda3\\lib\\site-packages (from numba->shap) (65.6.3)\n",
      "Requirement already satisfied: llvmlite<0.40,>=0.39.0dev0 in c:\\users\\greatlearning\\anaconda3\\lib\\site-packages (from numba->shap) (0.39.1)\n",
      "Requirement already satisfied: pytz>=2020.1 in c:\\users\\greatlearning\\anaconda3\\lib\\site-packages (from pandas->shap) (2022.7)\n",
      "Requirement already satisfied: python-dateutil>=2.8.1 in c:\\users\\greatlearning\\anaconda3\\lib\\site-packages (from pandas->shap) (2.8.2)\n",
      "Requirement already satisfied: joblib>=1.1.1 in c:\\users\\greatlearning\\anaconda3\\lib\\site-packages (from scikit-learn->shap) (1.3.2)\n",
      "Requirement already satisfied: threadpoolctl>=2.0.0 in c:\\users\\greatlearning\\anaconda3\\lib\\site-packages (from scikit-learn->shap) (2.2.0)\n",
      "Requirement already satisfied: six>=1.5 in c:\\users\\greatlearning\\anaconda3\\lib\\site-packages (from python-dateutil>=2.8.1->pandas->shap) (1.16.0)\n",
      "Installing collected packages: slicer, shap\n",
      "Successfully installed shap-0.42.1 slicer-0.0.7\n"
     ]
    }
   ],
   "source": [
    "!pip install shap"
   ]
  },
  {
   "cell_type": "code",
   "execution_count": 26,
   "id": "fc35e464",
   "metadata": {
    "scrolled": true
   },
   "outputs": [
    {
     "name": "stdout",
     "output_type": "stream",
     "text": [
      "Requirement already satisfied: streamlit in c:\\users\\greatlearning\\anaconda3\\envs\\mlops\\lib\\site-packages (1.27.1)\n",
      "Requirement already satisfied: tenacity<9,>=8.1.0 in c:\\users\\greatlearning\\anaconda3\\envs\\mlops\\lib\\site-packages (from streamlit) (8.2.3)\n",
      "Requirement already satisfied: typing-extensions<5,>=4.1.0 in c:\\users\\greatlearning\\anaconda3\\envs\\mlops\\lib\\site-packages (from streamlit) (4.3.0)\n",
      "Requirement already satisfied: protobuf<5,>=3.20 in c:\\users\\greatlearning\\anaconda3\\envs\\mlops\\lib\\site-packages (from streamlit) (4.24.3)\n",
      "Requirement already satisfied: requests<3,>=2.27 in c:\\users\\greatlearning\\anaconda3\\envs\\mlops\\lib\\site-packages (from streamlit) (2.28.1)\n",
      "Requirement already satisfied: importlib-metadata<7,>=1.4 in c:\\users\\greatlearning\\anaconda3\\envs\\mlops\\lib\\site-packages (from streamlit) (4.11.3)\n",
      "Requirement already satisfied: python-dateutil<3,>=2.7.3 in c:\\users\\greatlearning\\anaconda3\\envs\\mlops\\lib\\site-packages (from streamlit) (2.8.2)\n",
      "Requirement already satisfied: click<9,>=7.0 in c:\\users\\greatlearning\\anaconda3\\envs\\mlops\\lib\\site-packages (from streamlit) (8.0.4)\n",
      "Requirement already satisfied: pydeck<1,>=0.8.0b4 in c:\\users\\greatlearning\\anaconda3\\envs\\mlops\\lib\\site-packages (from streamlit) (0.8.1b0)\n",
      "Requirement already satisfied: toml<2,>=0.10.1 in c:\\users\\greatlearning\\anaconda3\\envs\\mlops\\lib\\site-packages (from streamlit) (0.10.2)\n",
      "Requirement already satisfied: watchdog>=2.1.5 in c:\\users\\greatlearning\\anaconda3\\envs\\mlops\\lib\\site-packages (from streamlit) (2.1.6)\n",
      "Requirement already satisfied: tornado<7,>=6.0.3 in c:\\users\\greatlearning\\anaconda3\\envs\\mlops\\lib\\site-packages (from streamlit) (6.1)\n",
      "Requirement already satisfied: blinker<2,>=1.0.0 in c:\\users\\greatlearning\\anaconda3\\envs\\mlops\\lib\\site-packages (from streamlit) (1.6.2)\n",
      "Requirement already satisfied: pandas<3,>=1.3.0 in c:\\users\\greatlearning\\anaconda3\\envs\\mlops\\lib\\site-packages (from streamlit) (1.4.4)\n",
      "Requirement already satisfied: numpy<2,>=1.19.3 in c:\\users\\greatlearning\\anaconda3\\envs\\mlops\\lib\\site-packages (from streamlit) (1.21.5)\n",
      "Requirement already satisfied: pyarrow>=6.0 in c:\\users\\greatlearning\\anaconda3\\envs\\mlops\\lib\\site-packages (from streamlit) (13.0.0)\n",
      "Requirement already satisfied: pillow<11,>=7.1.0 in c:\\users\\greatlearning\\anaconda3\\envs\\mlops\\lib\\site-packages (from streamlit) (9.2.0)\n",
      "Requirement already satisfied: cachetools<6,>=4.0 in c:\\users\\greatlearning\\anaconda3\\envs\\mlops\\lib\\site-packages (from streamlit) (5.3.1)\n",
      "Requirement already satisfied: altair<6,>=4.0 in c:\\users\\greatlearning\\anaconda3\\envs\\mlops\\lib\\site-packages (from streamlit) (5.1.1)\n",
      "Requirement already satisfied: validators<1,>=0.2 in c:\\users\\greatlearning\\anaconda3\\envs\\mlops\\lib\\site-packages (from streamlit) (0.22.0)\n",
      "Requirement already satisfied: gitpython!=3.1.19,<4,>=3.0.7 in c:\\users\\greatlearning\\anaconda3\\envs\\mlops\\lib\\site-packages (from streamlit) (3.1.37)\n",
      "Requirement already satisfied: packaging<24,>=16.8 in c:\\users\\greatlearning\\anaconda3\\envs\\mlops\\lib\\site-packages (from streamlit) (21.3)\n",
      "Requirement already satisfied: tzlocal<6,>=1.1 in c:\\users\\greatlearning\\anaconda3\\envs\\mlops\\lib\\site-packages (from streamlit) (5.0.1)\n",
      "Requirement already satisfied: rich<14,>=10.14.0 in c:\\users\\greatlearning\\anaconda3\\envs\\mlops\\lib\\site-packages (from streamlit) (13.6.0)\n",
      "Requirement already satisfied: jsonschema>=3.0 in c:\\users\\greatlearning\\anaconda3\\envs\\mlops\\lib\\site-packages (from altair<6,>=4.0->streamlit) (4.16.0)\n",
      "Requirement already satisfied: jinja2 in c:\\users\\greatlearning\\anaconda3\\envs\\mlops\\lib\\site-packages (from altair<6,>=4.0->streamlit) (2.11.3)\n",
      "Requirement already satisfied: toolz in c:\\users\\greatlearning\\anaconda3\\envs\\mlops\\lib\\site-packages (from altair<6,>=4.0->streamlit) (0.11.2)\n",
      "Requirement already satisfied: colorama in c:\\users\\greatlearning\\anaconda3\\envs\\mlops\\lib\\site-packages (from click<9,>=7.0->streamlit) (0.4.5)\n",
      "Requirement already satisfied: gitdb<5,>=4.0.1 in c:\\users\\greatlearning\\anaconda3\\envs\\mlops\\lib\\site-packages (from gitpython!=3.1.19,<4,>=3.0.7->streamlit) (4.0.10)\n",
      "Requirement already satisfied: zipp>=0.5 in c:\\users\\greatlearning\\anaconda3\\envs\\mlops\\lib\\site-packages (from importlib-metadata<7,>=1.4->streamlit) (3.8.0)\n",
      "Requirement already satisfied: pyparsing!=3.0.5,>=2.0.2 in c:\\users\\greatlearning\\anaconda3\\envs\\mlops\\lib\\site-packages (from packaging<24,>=16.8->streamlit) (3.0.9)\n",
      "Requirement already satisfied: pytz>=2020.1 in c:\\users\\greatlearning\\anaconda3\\envs\\mlops\\lib\\site-packages (from pandas<3,>=1.3.0->streamlit) (2022.1)\n",
      "Requirement already satisfied: six>=1.5 in c:\\users\\greatlearning\\anaconda3\\envs\\mlops\\lib\\site-packages (from python-dateutil<3,>=2.7.3->streamlit) (1.16.0)\n",
      "Requirement already satisfied: certifi>=2017.4.17 in c:\\users\\greatlearning\\anaconda3\\envs\\mlops\\lib\\site-packages (from requests<3,>=2.27->streamlit) (2022.9.14)\n",
      "Requirement already satisfied: idna<4,>=2.5 in c:\\users\\greatlearning\\anaconda3\\envs\\mlops\\lib\\site-packages (from requests<3,>=2.27->streamlit) (3.3)\n",
      "Requirement already satisfied: charset-normalizer<3,>=2 in c:\\users\\greatlearning\\anaconda3\\envs\\mlops\\lib\\site-packages (from requests<3,>=2.27->streamlit) (2.0.4)\n",
      "Requirement already satisfied: urllib3<1.27,>=1.21.1 in c:\\users\\greatlearning\\anaconda3\\envs\\mlops\\lib\\site-packages (from requests<3,>=2.27->streamlit) (1.26.11)\n",
      "Requirement already satisfied: pygments<3.0.0,>=2.13.0 in c:\\users\\greatlearning\\anaconda3\\envs\\mlops\\lib\\site-packages (from rich<14,>=10.14.0->streamlit) (2.16.1)\n",
      "Requirement already satisfied: markdown-it-py>=2.2.0 in c:\\users\\greatlearning\\anaconda3\\envs\\mlops\\lib\\site-packages (from rich<14,>=10.14.0->streamlit) (3.0.0)\n",
      "Requirement already satisfied: backports.zoneinfo in c:\\users\\greatlearning\\anaconda3\\envs\\mlops\\lib\\site-packages (from tzlocal<6,>=1.1->streamlit) (0.2.1)\n",
      "Requirement already satisfied: tzdata in c:\\users\\greatlearning\\anaconda3\\envs\\mlops\\lib\\site-packages (from tzlocal<6,>=1.1->streamlit) (2023.3)\n",
      "Requirement already satisfied: smmap<6,>=3.0.1 in c:\\users\\greatlearning\\anaconda3\\envs\\mlops\\lib\\site-packages (from gitdb<5,>=4.0.1->gitpython!=3.1.19,<4,>=3.0.7->streamlit) (5.0.1)\n",
      "Requirement already satisfied: MarkupSafe>=0.23 in c:\\users\\greatlearning\\anaconda3\\envs\\mlops\\lib\\site-packages (from jinja2->altair<6,>=4.0->streamlit) (2.0.1)\n",
      "Requirement already satisfied: importlib-resources>=1.4.0 in c:\\users\\greatlearning\\anaconda3\\envs\\mlops\\lib\\site-packages (from jsonschema>=3.0->altair<6,>=4.0->streamlit) (5.2.0)\n",
      "Requirement already satisfied: attrs>=17.4.0 in c:\\users\\greatlearning\\anaconda3\\envs\\mlops\\lib\\site-packages (from jsonschema>=3.0->altair<6,>=4.0->streamlit) (21.4.0)\n",
      "Requirement already satisfied: pkgutil-resolve-name>=1.3.10 in c:\\users\\greatlearning\\anaconda3\\envs\\mlops\\lib\\site-packages (from jsonschema>=3.0->altair<6,>=4.0->streamlit) (1.3.10)\n",
      "Requirement already satisfied: pyrsistent!=0.17.0,!=0.17.1,!=0.17.2,>=0.14.0 in c:\\users\\greatlearning\\anaconda3\\envs\\mlops\\lib\\site-packages (from jsonschema>=3.0->altair<6,>=4.0->streamlit) (0.18.0)\n",
      "Requirement already satisfied: mdurl~=0.1 in c:\\users\\greatlearning\\anaconda3\\envs\\mlops\\lib\\site-packages (from markdown-it-py>=2.2.0->rich<14,>=10.14.0->streamlit) (0.1.2)\n",
      "Note: you may need to restart the kernel to use updated packages.\n"
     ]
    }
   ],
   "source": [
    "pip install streamlit"
   ]
  },
  {
   "cell_type": "code",
   "execution_count": 21,
   "id": "a3e4fc5f",
   "metadata": {
    "scrolled": true
   },
   "outputs": [
    {
     "name": "stdout",
     "output_type": "stream",
     "text": [
      "Collecting shap\n",
      "  Downloading shap-0.42.1-cp38-cp38-win_amd64.whl (462 kB)\n",
      "     -------------------------------------- 462.3/462.3 kB 4.1 MB/s eta 0:00:00\n",
      "Requirement already satisfied: cloudpickle in c:\\users\\greatlearning\\anaconda3\\envs\\mlops\\lib\\site-packages (from shap) (2.0.0)\n",
      "Requirement already satisfied: packaging>20.9 in c:\\users\\greatlearning\\anaconda3\\envs\\mlops\\lib\\site-packages (from shap) (21.3)\n",
      "Collecting slicer==0.0.7\n",
      "  Downloading slicer-0.0.7-py3-none-any.whl (14 kB)\n",
      "Requirement already satisfied: numba in c:\\users\\greatlearning\\anaconda3\\envs\\mlops\\lib\\site-packages (from shap) (0.55.1)\n",
      "Requirement already satisfied: pandas in c:\\users\\greatlearning\\anaconda3\\envs\\mlops\\lib\\site-packages (from shap) (1.4.4)\n",
      "Requirement already satisfied: numpy in c:\\users\\greatlearning\\anaconda3\\envs\\mlops\\lib\\site-packages (from shap) (1.21.5)\n",
      "Requirement already satisfied: scikit-learn in c:\\users\\greatlearning\\anaconda3\\envs\\mlops\\lib\\site-packages (from shap) (1.3.1)\n",
      "Requirement already satisfied: scipy in c:\\users\\greatlearning\\anaconda3\\envs\\mlops\\lib\\site-packages (from shap) (1.9.1)\n",
      "Requirement already satisfied: tqdm>=4.27.0 in c:\\users\\greatlearning\\anaconda3\\envs\\mlops\\lib\\site-packages (from shap) (4.64.1)\n",
      "Requirement already satisfied: pyparsing!=3.0.5,>=2.0.2 in c:\\users\\greatlearning\\anaconda3\\envs\\mlops\\lib\\site-packages (from packaging>20.9->shap) (3.0.9)\n",
      "Requirement already satisfied: colorama in c:\\users\\greatlearning\\anaconda3\\envs\\mlops\\lib\\site-packages (from tqdm>=4.27.0->shap) (0.4.5)\n",
      "Requirement already satisfied: llvmlite<0.39,>=0.38.0rc1 in c:\\users\\greatlearning\\anaconda3\\envs\\mlops\\lib\\site-packages (from numba->shap) (0.38.0)\n",
      "Requirement already satisfied: setuptools in c:\\users\\greatlearning\\anaconda3\\envs\\mlops\\lib\\site-packages (from numba->shap) (63.4.1)\n",
      "Requirement already satisfied: pytz>=2020.1 in c:\\users\\greatlearning\\anaconda3\\envs\\mlops\\lib\\site-packages (from pandas->shap) (2022.1)\n",
      "Requirement already satisfied: python-dateutil>=2.8.1 in c:\\users\\greatlearning\\anaconda3\\envs\\mlops\\lib\\site-packages (from pandas->shap) (2.8.2)\n",
      "Requirement already satisfied: threadpoolctl>=2.0.0 in c:\\users\\greatlearning\\anaconda3\\envs\\mlops\\lib\\site-packages (from scikit-learn->shap) (2.2.0)\n",
      "Requirement already satisfied: joblib>=1.1.1 in c:\\users\\greatlearning\\anaconda3\\envs\\mlops\\lib\\site-packages (from scikit-learn->shap) (1.3.2)\n",
      "Requirement already satisfied: six>=1.5 in c:\\users\\greatlearning\\anaconda3\\envs\\mlops\\lib\\site-packages (from python-dateutil>=2.8.1->pandas->shap) (1.16.0)\n",
      "Installing collected packages: slicer, shap\n",
      "Successfully installed shap-0.42.1 slicer-0.0.7\n"
     ]
    }
   ],
   "source": [
    "!pip install shap"
   ]
  },
  {
   "cell_type": "code",
   "execution_count": 18,
   "id": "9101a1f7",
   "metadata": {
    "scrolled": true
   },
   "outputs": [
    {
     "name": "stdout",
     "output_type": "stream",
     "text": [
      "Collecting xgboost\n",
      "  Using cached xgboost-2.0.0-py3-none-win_amd64.whl (99.7 MB)\n",
      "Requirement already satisfied: numpy in c:\\users\\greatlearning\\anaconda3\\envs\\mlops\\lib\\site-packages (from xgboost) (1.21.5)\n",
      "Requirement already satisfied: scipy in c:\\users\\greatlearning\\anaconda3\\envs\\mlops\\lib\\site-packages (from xgboost) (1.9.1)\n",
      "Installing collected packages: xgboost\n",
      "Successfully installed xgboost-2.0.0\n"
     ]
    }
   ],
   "source": [
    "!pip install xgboost\n"
   ]
  },
  {
   "cell_type": "code",
   "execution_count": 17,
   "id": "99a86bbe",
   "metadata": {},
   "outputs": [
    {
     "name": "stdout",
     "output_type": "stream",
     "text": [
      "^C\n"
     ]
    }
   ],
   "source": [
    "pip install xgboost\n"
   ]
  },
  {
   "cell_type": "code",
   "execution_count": 11,
   "id": "9d8adecb",
   "metadata": {},
   "outputs": [],
   "source": [
    "!pip install imbalanced-learn --quiet\n"
   ]
  },
  {
   "cell_type": "code",
   "execution_count": 4,
   "id": "3ee03064",
   "metadata": {
    "scrolled": true
   },
   "outputs": [
    {
     "name": "stdout",
     "output_type": "stream",
     "text": [
      "Requirement already satisfied: scikit-learn in c:\\users\\greatlearning\\anaconda3\\envs\\mlops\\lib\\site-packages (1.0.2)\n",
      "Collecting scikit-learn\n",
      "  Downloading scikit_learn-1.3.1-cp38-cp38-win_amd64.whl (9.3 MB)\n",
      "     ---------------------------------------- 9.3/9.3 MB 7.6 MB/s eta 0:00:00\n",
      "Requirement already satisfied: joblib>=1.1.1 in c:\\users\\greatlearning\\anaconda3\\envs\\mlops\\lib\\site-packages (from scikit-learn) (1.3.2)\n",
      "Requirement already satisfied: numpy<2.0,>=1.17.3 in c:\\users\\greatlearning\\anaconda3\\envs\\mlops\\lib\\site-packages (from scikit-learn) (1.21.5)\n",
      "Requirement already satisfied: threadpoolctl>=2.0.0 in c:\\users\\greatlearning\\anaconda3\\envs\\mlops\\lib\\site-packages (from scikit-learn) (2.2.0)\n",
      "Requirement already satisfied: scipy>=1.5.0 in c:\\users\\greatlearning\\anaconda3\\envs\\mlops\\lib\\site-packages (from scikit-learn) (1.9.1)\n",
      "Installing collected packages: scikit-learn\n",
      "  Attempting uninstall: scikit-learn\n",
      "    Found existing installation: scikit-learn 1.0.2\n",
      "    Uninstalling scikit-learn-1.0.2:\n",
      "      Successfully uninstalled scikit-learn-1.0.2\n",
      "Successfully installed scikit-learn-1.3.1\n"
     ]
    }
   ],
   "source": [
    "!pip install --upgrade scikit-learn\n"
   ]
  },
  {
   "cell_type": "code",
   "execution_count": 6,
   "id": "b0b61aaa",
   "metadata": {},
   "outputs": [],
   "source": [
    "data=pd.read_csv('diabetes.csv')"
   ]
  },
  {
   "cell_type": "code",
   "execution_count": 7,
   "id": "bcfde451",
   "metadata": {},
   "outputs": [
    {
     "data": {
      "text/html": [
       "<div>\n",
       "<style scoped>\n",
       "    .dataframe tbody tr th:only-of-type {\n",
       "        vertical-align: middle;\n",
       "    }\n",
       "\n",
       "    .dataframe tbody tr th {\n",
       "        vertical-align: top;\n",
       "    }\n",
       "\n",
       "    .dataframe thead th {\n",
       "        text-align: right;\n",
       "    }\n",
       "</style>\n",
       "<table border=\"1\" class=\"dataframe\">\n",
       "  <thead>\n",
       "    <tr style=\"text-align: right;\">\n",
       "      <th></th>\n",
       "      <th>Pregnancies</th>\n",
       "      <th>Glucose</th>\n",
       "      <th>BloodPressure</th>\n",
       "      <th>SkinThickness</th>\n",
       "      <th>Insulin</th>\n",
       "      <th>BMI</th>\n",
       "      <th>DiabetesPedigreeFunction</th>\n",
       "      <th>Age</th>\n",
       "      <th>Outcome</th>\n",
       "    </tr>\n",
       "  </thead>\n",
       "  <tbody>\n",
       "    <tr>\n",
       "      <th>0</th>\n",
       "      <td>6</td>\n",
       "      <td>148</td>\n",
       "      <td>72</td>\n",
       "      <td>35</td>\n",
       "      <td>0</td>\n",
       "      <td>33.6</td>\n",
       "      <td>0.627</td>\n",
       "      <td>50</td>\n",
       "      <td>Yes</td>\n",
       "    </tr>\n",
       "    <tr>\n",
       "      <th>1</th>\n",
       "      <td>1</td>\n",
       "      <td>85</td>\n",
       "      <td>66</td>\n",
       "      <td>29</td>\n",
       "      <td>0</td>\n",
       "      <td>26.6</td>\n",
       "      <td>0.351</td>\n",
       "      <td>31</td>\n",
       "      <td>No</td>\n",
       "    </tr>\n",
       "    <tr>\n",
       "      <th>2</th>\n",
       "      <td>8</td>\n",
       "      <td>183</td>\n",
       "      <td>64</td>\n",
       "      <td>0</td>\n",
       "      <td>0</td>\n",
       "      <td>23.3</td>\n",
       "      <td>0.672</td>\n",
       "      <td>32</td>\n",
       "      <td>Yes</td>\n",
       "    </tr>\n",
       "    <tr>\n",
       "      <th>3</th>\n",
       "      <td>1</td>\n",
       "      <td>89</td>\n",
       "      <td>66</td>\n",
       "      <td>23</td>\n",
       "      <td>94</td>\n",
       "      <td>28.1</td>\n",
       "      <td>0.167</td>\n",
       "      <td>21</td>\n",
       "      <td>No</td>\n",
       "    </tr>\n",
       "    <tr>\n",
       "      <th>4</th>\n",
       "      <td>0</td>\n",
       "      <td>137</td>\n",
       "      <td>40</td>\n",
       "      <td>35</td>\n",
       "      <td>168</td>\n",
       "      <td>43.1</td>\n",
       "      <td>2.288</td>\n",
       "      <td>33</td>\n",
       "      <td>Tested_Positive</td>\n",
       "    </tr>\n",
       "  </tbody>\n",
       "</table>\n",
       "</div>"
      ],
      "text/plain": [
       "   Pregnancies  Glucose  BloodPressure  SkinThickness  Insulin   BMI  \\\n",
       "0            6      148             72             35        0  33.6   \n",
       "1            1       85             66             29        0  26.6   \n",
       "2            8      183             64              0        0  23.3   \n",
       "3            1       89             66             23       94  28.1   \n",
       "4            0      137             40             35      168  43.1   \n",
       "\n",
       "   DiabetesPedigreeFunction  Age          Outcome  \n",
       "0                     0.627   50              Yes  \n",
       "1                     0.351   31               No  \n",
       "2                     0.672   32              Yes  \n",
       "3                     0.167   21               No  \n",
       "4                     2.288   33  Tested_Positive  "
      ]
     },
     "execution_count": 7,
     "metadata": {},
     "output_type": "execute_result"
    }
   ],
   "source": [
    "data.head()"
   ]
  },
  {
   "cell_type": "markdown",
   "id": "10b3f466",
   "metadata": {},
   "source": [
    "**Atributes of the data**\n",
    "1. Pregnancies - The number of times the patient was pregnant\n",
    "2. Glucose- The serum glucose level of the patient\n",
    "3. BloodPressure-Duastolic blood pressure (mm of Hg)\n",
    "4. SkinThickness- Triceps fold skin thickness (mm)\n",
    "5. Insulin-The serum insulin level of the pateints\n",
    "6. BMI- Body Mass Index (Wt/Ht^2) is a measure of obesity.\n",
    "7. DiabetesPedigreeFunction-A genetic propensity towards diabetes base on family history\n",
    "8. Age-Age of the patient\n",
    "9. Outcome- The targhet variable within two levels(Yes/No)"
   ]
  },
  {
   "cell_type": "markdown",
   "id": "37f22d11",
   "metadata": {},
   "source": [
    "### Step 2: Data Sanity Check\n",
    "- get the basic info of the data\n",
    "- look for null values\n",
    "- look for duplicates rows\n",
    "- look for corrupted data\n",
    "- get the data summary statisctics(both numerical and categorical)\n",
    "- look for erroneous values in the data"
   ]
  },
  {
   "cell_type": "code",
   "execution_count": 8,
   "id": "1a4d495b",
   "metadata": {},
   "outputs": [
    {
     "name": "stdout",
     "output_type": "stream",
     "text": [
      "Rows = 768 Columns= 9\n"
     ]
    }
   ],
   "source": [
    "#get the shape of the data\n",
    "data_shape=data.shape\n",
    "print('Rows =',data_shape[0],'Columns=',data_shape[1])"
   ]
  },
  {
   "cell_type": "code",
   "execution_count": 9,
   "id": "0f60411e",
   "metadata": {},
   "outputs": [
    {
     "name": "stdout",
     "output_type": "stream",
     "text": [
      "<class 'pandas.core.frame.DataFrame'>\n",
      "RangeIndex: 768 entries, 0 to 767\n",
      "Data columns (total 9 columns):\n",
      " #   Column                    Non-Null Count  Dtype  \n",
      "---  ------                    --------------  -----  \n",
      " 0   Pregnancies               768 non-null    int64  \n",
      " 1   Glucose                   768 non-null    int64  \n",
      " 2   BloodPressure             768 non-null    int64  \n",
      " 3   SkinThickness             768 non-null    int64  \n",
      " 4   Insulin                   768 non-null    int64  \n",
      " 5   BMI                       768 non-null    float64\n",
      " 6   DiabetesPedigreeFunction  768 non-null    float64\n",
      " 7   Age                       768 non-null    int64  \n",
      " 8   Outcome                   768 non-null    object \n",
      "dtypes: float64(2), int64(6), object(1)\n",
      "memory usage: 54.1+ KB\n"
     ]
    },
    {
     "data": {
      "text/plain": [
       "(None,\n",
       " Pregnancies                   int64\n",
       " Glucose                       int64\n",
       " BloodPressure                 int64\n",
       " SkinThickness                 int64\n",
       " Insulin                       int64\n",
       " BMI                         float64\n",
       " DiabetesPedigreeFunction    float64\n",
       " Age                           int64\n",
       " Outcome                      object\n",
       " dtype: object)"
      ]
     },
     "execution_count": 9,
     "metadata": {},
     "output_type": "execute_result"
    }
   ],
   "source": [
    "#get the basic info\n",
    "info=data.info()\n",
    "\n",
    "#get the data type\n",
    "dtype=data.dtypes\n",
    "\n",
    "info,dtype"
   ]
  },
  {
   "cell_type": "code",
   "execution_count": 10,
   "id": "7ced1506",
   "metadata": {},
   "outputs": [
    {
     "data": {
      "text/plain": [
       "4"
      ]
     },
     "execution_count": 10,
     "metadata": {},
     "output_type": "execute_result"
    }
   ],
   "source": [
    "#check for unique levels in categorical\n",
    "data['Outcome'].nunique()"
   ]
  },
  {
   "cell_type": "code",
   "execution_count": 11,
   "id": "b5d6eb8b",
   "metadata": {},
   "outputs": [
    {
     "data": {
      "text/plain": [
       "No                 470\n",
       "Yes                248\n",
       "Tested_Negative     30\n",
       "Tested_Positive     20\n",
       "Name: Outcome, dtype: int64"
      ]
     },
     "execution_count": 11,
     "metadata": {},
     "output_type": "execute_result"
    }
   ],
   "source": [
    "#get the value counts of target column\n",
    "data['Outcome'].value_counts()"
   ]
  },
  {
   "cell_type": "code",
   "execution_count": 16,
   "id": "9b4af3ce",
   "metadata": {},
   "outputs": [
    {
     "data": {
      "text/plain": [
       "(Pregnancies                 0\n",
       " Glucose                     0\n",
       " BloodPressure               0\n",
       " SkinThickness               0\n",
       " Insulin                     0\n",
       " BMI                         0\n",
       " DiabetesPedigreeFunction    0\n",
       " Age                         0\n",
       " Outcome                     0\n",
       " dtype: int64,\n",
       " 0)"
      ]
     },
     "execution_count": 16,
     "metadata": {},
     "output_type": "execute_result"
    }
   ],
   "source": [
    "#Check for nulls and duplicates\n",
    "nulls=data.isnull().sum()\n",
    "\n",
    "dups=data.duplicated().sum()\n",
    "\n",
    "nulls,dups"
   ]
  },
  {
   "cell_type": "code",
   "execution_count": 19,
   "id": "e927a593",
   "metadata": {},
   "outputs": [
    {
     "data": {
      "text/html": [
       "<div>\n",
       "<style scoped>\n",
       "    .dataframe tbody tr th:only-of-type {\n",
       "        vertical-align: middle;\n",
       "    }\n",
       "\n",
       "    .dataframe tbody tr th {\n",
       "        vertical-align: top;\n",
       "    }\n",
       "\n",
       "    .dataframe thead th {\n",
       "        text-align: right;\n",
       "    }\n",
       "</style>\n",
       "<table border=\"1\" class=\"dataframe\">\n",
       "  <thead>\n",
       "    <tr style=\"text-align: right;\">\n",
       "      <th></th>\n",
       "      <th>Pregnancies</th>\n",
       "      <th>Glucose</th>\n",
       "      <th>BloodPressure</th>\n",
       "      <th>SkinThickness</th>\n",
       "      <th>Insulin</th>\n",
       "      <th>BMI</th>\n",
       "      <th>DiabetesPedigreeFunction</th>\n",
       "      <th>Age</th>\n",
       "      <th>Outcome</th>\n",
       "    </tr>\n",
       "  </thead>\n",
       "  <tbody>\n",
       "  </tbody>\n",
       "</table>\n",
       "</div>"
      ],
      "text/plain": [
       "Empty DataFrame\n",
       "Columns: [Pregnancies, Glucose, BloodPressure, SkinThickness, Insulin, BMI, DiabetesPedigreeFunction, Age, Outcome]\n",
       "Index: []"
      ]
     },
     "execution_count": 19,
     "metadata": {},
     "output_type": "execute_result"
    }
   ],
   "source": [
    "#Look for corrupt character in the data\n",
    "data[~data.applymap(np.isreal).any(1)]"
   ]
  },
  {
   "cell_type": "raw",
   "id": "e104f0bb",
   "metadata": {},
   "source": [
    "The code you provided appears to be written in Python and is likely meant to filter a DataFrame or a similar data structure using pandas and NumPy libraries. Let's break down the code step by step:\n",
    "\n",
    "data is assumed to be a DataFrame or a similar data structure. In pandas, a DataFrame is a two-dimensional, size-mutable, and potentially heterogeneous tabular data structure with labeled axes (rows and columns).\n",
    "\n",
    "data.applymap(np.isreal) is used to apply the np.isreal function element-wise to all the elements in the DataFrame data. np.isreal is a NumPy function that checks if a given element is a real number (i.e., not complex). So, this part of the code will create a DataFrame of the same shape as data, where each element is either True if it's a real number or False if it's not.\n",
    "\n",
    "data.applymap(np.isreal).any(1) applies the .any(1) method to the DataFrame resulting from step 2. The .any(1) method checks if any element in each row of the DataFrame is True. It returns a boolean Series where each row is True if at least one element in that row of the original DataFrame data is a real number, and False if all elements in that row are not real numbers.\n",
    "\n",
    "data[~data.applymap(np.isreal).any(1)] is the final part of the code. Here, it uses boolean indexing to filter rows in the original DataFrame data. The tilde (~) is a bitwise NOT operator, which negates the boolean values. So, it selects rows where the corresponding row in the boolean Series from step 3 is False, indicating that none of the elements in that row are real numbers. In other words, it filters out rows containing non-real numbers.\n",
    "\n",
    "In summary, the code is used to filter rows in a DataFrame data and keep only the rows where none of the elements in that row are real numbers. It's a way to identify and extract rows with non-numeric data in a pandas DataFrame."
   ]
  },
  {
   "cell_type": "code",
   "execution_count": 21,
   "id": "9c86a615",
   "metadata": {},
   "outputs": [
    {
     "data": {
      "text/plain": [
       "(                          count        mean         std     min       25%  \\\n",
       " Pregnancies               768.0    3.845052    3.369578   0.000   1.00000   \n",
       " Glucose                   768.0  120.894531   31.972618   0.000  99.00000   \n",
       " BloodPressure             768.0   69.105469   19.355807   0.000  62.00000   \n",
       " SkinThickness             768.0   20.536458   15.952218   0.000   0.00000   \n",
       " Insulin                   768.0   79.799479  115.244002   0.000   0.00000   \n",
       " BMI                       768.0   31.992578    7.884160   0.000  27.30000   \n",
       " DiabetesPedigreeFunction  768.0    0.471876    0.331329   0.078   0.24375   \n",
       " Age                       768.0   33.240885   11.760232  21.000  24.00000   \n",
       " \n",
       "                                50%        75%     max  \n",
       " Pregnancies                 3.0000    6.00000   17.00  \n",
       " Glucose                   117.0000  140.25000  199.00  \n",
       " BloodPressure              72.0000   80.00000  122.00  \n",
       " SkinThickness              23.0000   32.00000   99.00  \n",
       " Insulin                    30.5000  127.25000  846.00  \n",
       " BMI                        32.0000   36.60000   67.10  \n",
       " DiabetesPedigreeFunction    0.3725    0.62625    2.42  \n",
       " Age                        29.0000   41.00000   81.00  ,\n",
       "         count unique top freq\n",
       " Outcome   768      4  No  470)"
      ]
     },
     "execution_count": 21,
     "metadata": {},
     "output_type": "execute_result"
    }
   ],
   "source": [
    "#Summary statistics of numerical and categorical data\n",
    "num_stats=data.describe().T #Transposing columns to rows and vice versa to understand the data in a different way\n",
    "cat_stats=data.describe(include='O').T\n",
    "num_stats,cat_stats"
   ]
  },
  {
   "cell_type": "markdown",
   "id": "6a5a2ba1",
   "metadata": {},
   "source": [
    "**Data Summary**\n",
    "1. The dataset has 768 rows and 9 columns\n",
    "2. The dataset has 8 numerical variables(int64 and float64) and one categorical variable (Outcome)\n",
    "3. **The categorical variable Outcome has 4 levels has which we need to clean and reduce to 2 levels (Yes=1/No=0)**\\\n",
    "4. There are no missing values or duplicate rows.\n",
    "5. There are no corrupt characters in the data\n",
    "6. **There are many columns which hace minimum value as 0,that is physiologically not feasible,so we have to impute them with columns median**"
   ]
  },
  {
   "cell_type": "markdown",
   "id": "f614812f",
   "metadata": {},
   "source": [
    "### Step 3:Data cleaning Step\n",
    "- encode categorical Outcome variable\n",
    "- impute columns with minimum value 0"
   ]
  },
  {
   "cell_type": "code",
   "execution_count": 22,
   "id": "eb3be52d",
   "metadata": {},
   "outputs": [
    {
     "data": {
      "text/plain": [
       "Index(['Pregnancies', 'Glucose', 'BloodPressure', 'SkinThickness', 'Insulin',\n",
       "       'BMI', 'DiabetesPedigreeFunction', 'Age', 'Outcome'],\n",
       "      dtype='object')"
      ]
     },
     "execution_count": 22,
     "metadata": {},
     "output_type": "execute_result"
    }
   ],
   "source": [
    "data.columns"
   ]
  },
  {
   "cell_type": "code",
   "execution_count": 23,
   "id": "c9f11634",
   "metadata": {},
   "outputs": [],
   "source": [
    "#Create a copy of the data\n",
    "df=data.copy()"
   ]
  },
  {
   "cell_type": "code",
   "execution_count": null,
   "id": "8e22cf48",
   "metadata": {},
   "outputs": [],
   "source": []
  }
 ],
 "metadata": {
  "kernelspec": {
   "display_name": "Python 3 (ipykernel)",
   "language": "python",
   "name": "python3"
  },
  "language_info": {
   "codemirror_mode": {
    "name": "ipython",
    "version": 3
   },
   "file_extension": ".py",
   "mimetype": "text/x-python",
   "name": "python",
   "nbconvert_exporter": "python",
   "pygments_lexer": "ipython3",
   "version": "3.10.9"
  }
 },
 "nbformat": 4,
 "nbformat_minor": 5
}
